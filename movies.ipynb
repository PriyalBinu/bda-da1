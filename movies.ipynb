{
 "cells": [
  {
   "cell_type": "code",
   "execution_count": 1,
   "metadata": {},
   "outputs": [
    {
     "name": "stdout",
     "output_type": "stream",
     "text": [
      "Average rating by genre:\n",
      "                                                 Genres  average_rating\n",
      "0                                                Action        5.825000\n",
      "1                                      Action,Adventure        6.854545\n",
      "2     Action,Adventure,Biography,Crime,Drama,History...        6.400000\n",
      "3                      Action,Adventure,Biography,Drama             NaN\n",
      "4              Action,Adventure,Biography,Drama,History        6.800000\n",
      "...                                                 ...             ...\n",
      "1658                                      Unknown,Drama        6.800000\n",
      "1659               Unknown,Drama,Family,Fantasy,Musical             NaN\n",
      "1660                                                War             NaN\n",
      "1661                           War,Drama,Action,Romance        4.400000\n",
      "1662                                            Western             NaN\n",
      "\n",
      "[1663 rows x 2 columns]\n",
      "\n",
      "Genre with the highest average rating:\n",
      "Adventure,Drama,Mystery,Romance,Thriller with an average rating of: 9.8\n"
     ]
    }
   ],
   "source": [
    "import pandas as pd\n",
    "\n",
    "# Specify the path to your movie dataset CSV file\n",
    "file_path = '16k_Movies.csv'\n",
    "\n",
    "# Read the CSV file into a DataFrame\n",
    "movies = pd.read_csv(file_path)\n",
    "\n",
    "# Clean up any leading/trailing whitespace in string columns\n",
    "movies.columns = movies.columns.str.strip()  # Remove any whitespace from the column names\n",
    "movies = movies.apply(lambda x: x.str.strip() if x.dtype == \"object\" else x)\n",
    "\n",
    "# Check if 'Rating' and 'Genres' columns exist and are correctly named\n",
    "if 'Rating' not in movies.columns or 'Genres' not in movies.columns:\n",
    "    print(\"Error: Required columns 'Rating' or 'Genres' not found in the dataset. Please check the column names.\")\n",
    "else:\n",
    "    # Convert the 'Rating' column to numeric, handling any errors by coercing invalid values to NaN\n",
    "    movies['Rating'] = pd.to_numeric(movies['Rating'], errors='coerce')\n",
    "\n",
    "    # Split the 'Genres' column into individual genres\n",
    "    movies['Genres'] = movies['Genres'].apply(lambda x: x.split('|') if pd.notna(x) else [])\n",
    "\n",
    "    # Explode the 'Genres' column to have one genre per row per movie\n",
    "    movies_exploded = movies.explode('Genres')\n",
    "\n",
    "    # Group by 'Genres' and calculate the average rating per genre\n",
    "    genre_data = movies_exploded.groupby('Genres').agg(\n",
    "        average_rating=pd.NamedAgg(column='Rating', aggfunc='mean')\n",
    "    ).reset_index()\n",
    "\n",
    "    # Find the genre with the highest average rating\n",
    "    highest_avg_rating_genre = genre_data.loc[genre_data['average_rating'].idxmax()]\n",
    "\n",
    "    # Output the results\n",
    "    print(\"Average rating by genre:\")\n",
    "    print(genre_data)\n",
    "    print(\"\\nGenre with the highest average rating:\")\n",
    "    print(highest_avg_rating_genre['Genres'], \"with an average rating of:\", highest_avg_rating_genre['average_rating'])\n"
   ]
  }
 ],
 "metadata": {
  "kernelspec": {
   "display_name": "Python 3",
   "language": "python",
   "name": "python3"
  },
  "language_info": {
   "codemirror_mode": {
    "name": "ipython",
    "version": 3
   },
   "file_extension": ".py",
   "mimetype": "text/x-python",
   "name": "python",
   "nbconvert_exporter": "python",
   "pygments_lexer": "ipython3",
   "version": "3.10.8"
  }
 },
 "nbformat": 4,
 "nbformat_minor": 2
}
